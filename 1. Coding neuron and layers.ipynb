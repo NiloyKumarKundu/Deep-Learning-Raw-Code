{
 "cells": [
  {
   "cell_type": "code",
   "execution_count": 1,
   "id": "d02a9d45-417e-4005-bf56-0c7420b09663",
   "metadata": {},
   "outputs": [],
   "source": [
    "import numpy as np\n",
    "import pandas as pd"
   ]
  },
  {
   "cell_type": "markdown",
   "id": "0ce57648-97ab-414c-aac9-1377c11753b0",
   "metadata": {},
   "source": [
    "# Output of a neuron with 3 inputs"
   ]
  },
  {
   "cell_type": "code",
   "execution_count": 2,
   "id": "f679cac5-bd30-4ddd-9de5-ca6fe74d4dd0",
   "metadata": {},
   "outputs": [
    {
     "data": {
      "text/plain": [
       "2.3"
      ]
     },
     "execution_count": 2,
     "metadata": {},
     "output_type": "execute_result"
    }
   ],
   "source": [
    "inputs = [1.0, 2.0, 3.0]\n",
    "weights = [0.2, 0.8, -0.5]\n",
    "bias = 2.0\n",
    "output = (inputs[0] * weights[0]\n",
    "          + inputs[1] * weights[1]\n",
    "          + inputs[2] * weights[2]\n",
    "          + bias)\n",
    "output"
   ]
  },
  {
   "cell_type": "markdown",
   "id": "ec34fa4c-3fcb-45d1-be05-be67d01bb006",
   "metadata": {},
   "source": [
    "# Output of a neuron with 4 inputs"
   ]
  },
  {
   "cell_type": "code",
   "execution_count": 3,
   "id": "34a3f174-39f7-48f4-a4c3-f75d45190de8",
   "metadata": {},
   "outputs": [
    {
     "data": {
      "text/plain": [
       "4.8"
      ]
     },
     "execution_count": 3,
     "metadata": {},
     "output_type": "execute_result"
    }
   ],
   "source": [
    "inputs = [1.0, 2.0, 3.0, 2.5]\n",
    "weights = [0.2, 0.8, -0.5, 1.0]\n",
    "bias = 2.0\n",
    "output = (inputs[0] * weights[0]\n",
    "          + inputs[1] * weights[1]\n",
    "          + inputs[2] * weights[2]\n",
    "          + inputs[3] * weights[3]\n",
    "          + bias)\n",
    "output"
   ]
  },
  {
   "cell_type": "markdown",
   "id": "95d05ca7-5e6a-454d-bbbd-ab35f2da043b",
   "metadata": {},
   "source": [
    "# Layers of Neurons"
   ]
  },
  {
   "cell_type": "code",
   "execution_count": 4,
   "id": "4d33f005-7655-45f4-97df-e64af5afb485",
   "metadata": {},
   "outputs": [
    {
     "data": {
      "text/plain": [
       "[4.8, 1.21, 2.385]"
      ]
     },
     "execution_count": 4,
     "metadata": {},
     "output_type": "execute_result"
    }
   ],
   "source": [
    "inputs = [1, 2, 3, 2.5]\n",
    "weights = [[0.2, 0.8, -0.5, 1],\n",
    "           [0.5, -0.91, 0.26, -0.5],\n",
    "           [-0.26, -0.27, 0.17, 0.87]]\n",
    "\n",
    "biases = [2, 3, 0.5]\n",
    "\n",
    "outputs = [\n",
    "    # Neuron 1:\n",
    "    inputs[0] * weights[0][0] + \n",
    "    inputs[1] * weights[0][1] + \n",
    "    inputs[2] * weights[0][2] + \n",
    "    inputs[3] * weights[0][3] + biases[0],\n",
    "\n",
    "    # Neuron 2:\n",
    "    inputs[0] * weights[1][0] + \n",
    "    inputs[1] * weights[1][1] + \n",
    "    inputs[2] * weights[1][2] + \n",
    "    inputs[3] * weights[1][3] + biases[1],\n",
    "\n",
    "    # Neuron 3:\n",
    "    inputs[0] * weights[2][0] + \n",
    "    inputs[1] * weights[2][1] + \n",
    "    inputs[2] * weights[2][2] + \n",
    "    inputs[3] * weights[2][3] + biases[2],\n",
    "]\n",
    "\n",
    "outputs"
   ]
  },
  {
   "cell_type": "markdown",
   "id": "4ae5128a-6731-45e1-809c-364e80284049",
   "metadata": {},
   "source": [
    "#### Using loops"
   ]
  },
  {
   "cell_type": "code",
   "execution_count": 9,
   "id": "257fbc89-5001-43d4-9a0a-ba54a30652cc",
   "metadata": {},
   "outputs": [
    {
     "name": "stdout",
     "output_type": "stream",
     "text": [
      "[4.8, 1.21, 2.385]\n"
     ]
    }
   ],
   "source": [
    "inputs = [1, 2, 3, 2.5]\n",
    "\n",
    "# List of weights\n",
    "weights = [[0.2, 0.8, -0.5, 1],\n",
    "           [0.5, -0.91, 0.26, -0.5],\n",
    "           [-0.26, -0.27, 0.17, 0.87]]\n",
    "\n",
    "# List of biases\n",
    "biases = [2, 3, 0.5]\n",
    "\n",
    "# Output of current layer\n",
    "layer_outputs = []\n",
    "\n",
    "# For each neuron\n",
    "for neuron_weights, neuron_bias in zip(weights, biases):\n",
    "    # zeroed output of given neuron\n",
    "    neuron_output = 0\n",
    "\n",
    "    # For each input and weight to the neuron\n",
    "    for n_input, weight in zip(inputs, neuron_weights):\n",
    "        # Multiply this input by associated weight\n",
    "        # and add to the neuron's output variable\n",
    "        neuron_output += n_input * weight\n",
    "    # add bias\n",
    "    neuron_output += neuron_bias\n",
    "    # put neuron's result to the layer's output list\n",
    "    layer_outputs.append(neuron_output)\n",
    "print(layer_outputs)"
   ]
  },
  {
   "cell_type": "markdown",
   "id": "2dd9458e-515a-418d-9633-ca75d8526940",
   "metadata": {},
   "source": [
    "# Single neuron using Numpy"
   ]
  },
  {
   "cell_type": "code",
   "execution_count": 15,
   "id": "20a06b1e-7b20-4fed-94d7-ee4174295dfe",
   "metadata": {},
   "outputs": [
    {
     "name": "stdout",
     "output_type": "stream",
     "text": [
      "4.8\n",
      "4.8\n",
      "Both are same in vector multiplication\n"
     ]
    }
   ],
   "source": [
    "inputs = [1.0, 2.0, 3.0, 2.5]\n",
    "weights = [0.2, 0.8, -0.5, 1.0]\n",
    "bias = 2.0\n",
    "\n",
    "# Calculate the dot product and add the bias\n",
    "outputs1 = np.dot(weights_array, inputs_array) + bias\n",
    "outputs2 = np.dot(inputs_array, weights_array) + bias\n",
    "print(outputs1)\n",
    "print(outputs2)\n",
    "\n",
    "print(\"Both are same in vector multiplication\")"
   ]
  },
  {
   "cell_type": "markdown",
   "id": "b2843bc6-857d-466a-9ba8-9ae9ae50ed41",
   "metadata": {},
   "source": [
    "## Layers of neurons using Numpy"
   ]
  },
  {
   "cell_type": "code",
   "execution_count": 17,
   "id": "dfd0e218-b42d-4a8d-8af5-429ae3fd6927",
   "metadata": {},
   "outputs": [
    {
     "name": "stdout",
     "output_type": "stream",
     "text": [
      "[4.8   1.21  2.385]\n",
      "(3, 4) (4,)\n"
     ]
    }
   ],
   "source": [
    "inputs = [1.0, 2.0, 3.0, 2.5]\n",
    "weights = [[0.2, 0.8, -0.5, 1],\n",
    "           [0.5, -0.91, 0.26, -0.5],\n",
    "           [-0.26, -0.27, 0.17, 0.87]]\n",
    "biases = [2.0, 3.0, 0.5]\n",
    "\n",
    "# Convert lists to numpy arrays\n",
    "inputs_array = np.array(inputs)\n",
    "weights_array = np.array(weights)\n",
    "biases_array = np.array(biases)\n",
    "\n",
    "# Calculate the dot product anad add the biases\n",
    "layer_outputs = np.dot(weights_array, inputs_array) + biases_array\n",
    "print(layer_outputs)\n",
    "print(weights_array.shape, inputs_array.shape)"
   ]
  },
  {
   "cell_type": "markdown",
   "id": "96d7d848-6bbe-472f-b97f-f3608639744b",
   "metadata": {},
   "source": [
    "# Layer of neurons and batch of data using numpy"
   ]
  },
  {
   "cell_type": "code",
   "execution_count": 19,
   "id": "95dbde29-7d0a-484f-8c8e-b4b2f363d1ba",
   "metadata": {},
   "outputs": [
    {
     "name": "stdout",
     "output_type": "stream",
     "text": [
      "[[ 4.8    1.21   2.385]\n",
      " [ 8.9   -1.81   0.2  ]\n",
      " [ 1.41   1.051  0.026]]\n"
     ]
    }
   ],
   "source": [
    "inputs = [[1.0, 2.0, 3.0, 2.5], \n",
    "          [2.0, 5.0, -1.0, 2.0], \n",
    "          [-1.5, 2.7, 3.3, -0.8]]\n",
    "weights = [[0.2, 0.8, -0.5, 1],\n",
    "           [0.5, -0.91, 0.26, -0.5],\n",
    "           [-0.26, -0.27, 0.17, 0.87]]\n",
    "biases = [2.0, 3.0, 0.5]\n",
    "\n",
    "# Calculate the dot product and add the biases\n",
    "# NOTE: We can't TRANSPOSE lists in python, so we have to convert the weights matrix into an numpy array first.\n",
    "outputs = np.dot(inputs_array, np.array(weights_array).T) + biases_array\n",
    "print(outputs)"
   ]
  },
  {
   "cell_type": "code",
   "execution_count": null,
   "id": "1452af9b-bfbb-44e2-a7d3-46e9f2ebae66",
   "metadata": {},
   "outputs": [],
   "source": []
  },
  {
   "cell_type": "code",
   "execution_count": null,
   "id": "23d9d5ed-478f-41fd-8410-37725d3e9c9b",
   "metadata": {},
   "outputs": [],
   "source": []
  },
  {
   "cell_type": "code",
   "execution_count": null,
   "id": "7aa48bdd-383e-43fa-a520-0ba850a969cc",
   "metadata": {},
   "outputs": [],
   "source": []
  },
  {
   "cell_type": "code",
   "execution_count": null,
   "id": "5b226fe7-3100-4e31-a061-3b5f7f929c05",
   "metadata": {},
   "outputs": [],
   "source": []
  }
 ],
 "metadata": {
  "kernelspec": {
   "display_name": "Python [conda env:DL] *",
   "language": "python",
   "name": "conda-env-DL-py"
  },
  "language_info": {
   "codemirror_mode": {
    "name": "ipython",
    "version": 3
   },
   "file_extension": ".py",
   "mimetype": "text/x-python",
   "name": "python",
   "nbconvert_exporter": "python",
   "pygments_lexer": "ipython3",
   "version": "3.12.4"
  }
 },
 "nbformat": 4,
 "nbformat_minor": 5
}
