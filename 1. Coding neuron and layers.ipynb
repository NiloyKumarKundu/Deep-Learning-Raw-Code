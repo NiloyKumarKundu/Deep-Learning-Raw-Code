{
 "cells": [
  {
   "cell_type": "code",
   "execution_count": 1,
   "id": "d02a9d45-417e-4005-bf56-0c7420b09663",
   "metadata": {},
   "outputs": [],
   "source": [
    "import numpy as np\n",
    "import pandas as pd"
   ]
  },
  {
   "cell_type": "markdown",
   "id": "0ce57648-97ab-414c-aac9-1377c11753b0",
   "metadata": {},
   "source": [
    "# Output of a neuron with 3 inputs"
   ]
  },
  {
   "cell_type": "code",
   "execution_count": 2,
   "id": "f679cac5-bd30-4ddd-9de5-ca6fe74d4dd0",
   "metadata": {},
   "outputs": [
    {
     "data": {
      "text/plain": [
       "2.3"
      ]
     },
     "execution_count": 2,
     "metadata": {},
     "output_type": "execute_result"
    }
   ],
   "source": [
    "inputs = [1.0, 2.0, 3.0]\n",
    "weights = [0.2, 0.8, -0.5]\n",
    "bias = 2.0\n",
    "output = (inputs[0] * weights[0]\n",
    "          + inputs[1] * weights[1]\n",
    "          + inputs[2] * weights[2]\n",
    "          + bias)\n",
    "output"
   ]
  },
  {
   "cell_type": "markdown",
   "id": "ec34fa4c-3fcb-45d1-be05-be67d01bb006",
   "metadata": {},
   "source": [
    "# Output of a neuron with 4 inputs"
   ]
  },
  {
   "cell_type": "code",
   "execution_count": 3,
   "id": "34a3f174-39f7-48f4-a4c3-f75d45190de8",
   "metadata": {},
   "outputs": [
    {
     "data": {
      "text/plain": [
       "4.8"
      ]
     },
     "execution_count": 3,
     "metadata": {},
     "output_type": "execute_result"
    }
   ],
   "source": [
    "inputs = [1.0, 2.0, 3.0, 2.5]\n",
    "weights = [0.2, 0.8, -0.5, 1.0]\n",
    "bias = 2.0\n",
    "output = (inputs[0] * weights[0]\n",
    "          + inputs[1] * weights[1]\n",
    "          + inputs[2] * weights[2]\n",
    "          + inputs[3] * weights[3]\n",
    "          + bias)\n",
    "output"
   ]
  },
  {
   "cell_type": "code",
   "execution_count": 4,
   "id": "4d33f005-7655-45f4-97df-e64af5afb485",
   "metadata": {},
   "outputs": [
    {
     "data": {
      "text/plain": [
       "[4.8, 1.21, 2.385]"
      ]
     },
     "execution_count": 4,
     "metadata": {},
     "output_type": "execute_result"
    }
   ],
   "source": [
    "inputs = [1, 2, 3, 2.5]\n",
    "weights = [[0.2, 0.8, -0.5, 1],\n",
    "           [0.5, -0.91, 0.26, -0.5],\n",
    "           [-0.26, -0.27, 0.17, 0.87]]\n",
    "\n",
    "biases = [2, 3, 0.5]\n",
    "\n",
    "outputs = [\n",
    "    # Neuron 1:\n",
    "    inputs[0] * weights[0][0] + \n",
    "    inputs[1] * weights[0][1] + \n",
    "    inputs[2] * weights[0][2] + \n",
    "    inputs[3] * weights[0][3] + biases[0],\n",
    "\n",
    "    # Neuron 2:\n",
    "    inputs[0] * weights[1][0] + \n",
    "    inputs[1] * weights[1][1] + \n",
    "    inputs[2] * weights[1][2] + \n",
    "    inputs[3] * weights[1][3] + biases[1],\n",
    "\n",
    "    # Neuron 3:\n",
    "    inputs[0] * weights[2][0] + \n",
    "    inputs[1] * weights[2][1] + \n",
    "    inputs[2] * weights[2][2] + \n",
    "    inputs[3] * weights[2][3] + biases[2],\n",
    "]\n",
    "\n",
    "outputs"
   ]
  },
  {
   "cell_type": "code",
   "execution_count": null,
   "id": "7aa48bdd-383e-43fa-a520-0ba850a969cc",
   "metadata": {},
   "outputs": [],
   "source": []
  },
  {
   "cell_type": "code",
   "execution_count": null,
   "id": "5b226fe7-3100-4e31-a061-3b5f7f929c05",
   "metadata": {},
   "outputs": [],
   "source": []
  }
 ],
 "metadata": {
  "kernelspec": {
   "display_name": "Python [conda env:DL] *",
   "language": "python",
   "name": "conda-env-DL-py"
  },
  "language_info": {
   "codemirror_mode": {
    "name": "ipython",
    "version": 3
   },
   "file_extension": ".py",
   "mimetype": "text/x-python",
   "name": "python",
   "nbconvert_exporter": "python",
   "pygments_lexer": "ipython3",
   "version": "3.12.4"
  }
 },
 "nbformat": 4,
 "nbformat_minor": 5
}
