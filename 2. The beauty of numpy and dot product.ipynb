{
 "cells": [
  {
   "cell_type": "code",
   "execution_count": 1,
   "id": "228594a9-813f-4547-b7c9-f5e87fd2f385",
   "metadata": {},
   "outputs": [],
   "source": [
    "import numpy as np\n",
    "import pandas as pd"
   ]
  },
  {
   "cell_type": "markdown",
   "id": "6e897a85-908b-4f10-8c67-7d76382f49d2",
   "metadata": {},
   "source": [
    "# Neuron"
   ]
  },
  {
   "cell_type": "code",
   "execution_count": 9,
   "id": "36503801-3f60-48bf-862e-c557e2381347",
   "metadata": {},
   "outputs": [
    {
     "name": "stdout",
     "output_type": "stream",
     "text": [
      "[4.8, 1.21, 2.385]\n"
     ]
    }
   ],
   "source": [
    "#### Using loops\n",
    "inputs = [1, 2, 3, 2.5]\n",
    "\n",
    "# List of weights\n",
    "weights = [[0.2, 0.8, -0.5, 1],\n",
    "           [0.5, -0.91, 0.26, -0.5],\n",
    "           [-0.26, -0.27, 0.17, 0.87]]\n",
    "\n",
    "# List of biases\n",
    "biases = [2, 3, 0.5]\n",
    "\n",
    "# Output of current layer\n",
    "layer_outputs = []\n",
    "\n",
    "# For each neuron\n",
    "for neuron_weights, neuron_bias in zip(weights, biases):\n",
    "    # zeroed output of given neuron\n",
    "    neuron_output = 0\n",
    "\n",
    "    # For each input and weight to the neuron\n",
    "    for n_input, weight in zip(inputs, neuron_weights):\n",
    "        # Multiply this input by associated weight\n",
    "        # and add to the neuron's output variable\n",
    "        neuron_output += n_input * weight\n",
    "    # add bias\n",
    "    neuron_output += neuron_bias\n",
    "    # put neuron's result to the layer's output list\n",
    "    layer_outputs.append(neuron_output)\n",
    "print(layer_outputs)"
   ]
  },
  {
   "cell_type": "markdown",
   "id": "c759ca0a-2793-4257-aa9c-b2fe8c8f215d",
   "metadata": {},
   "source": [
    "# Single neuron using Numpy"
   ]
  },
  {
   "cell_type": "code",
   "execution_count": 5,
   "id": "84af7b9e-b680-4eb2-abd0-5d839d3d830e",
   "metadata": {},
   "outputs": [
    {
     "name": "stdout",
     "output_type": "stream",
     "text": [
      "4.8\n",
      "4.8\n",
      "Both are same in vector multiplication\n"
     ]
    }
   ],
   "source": [
    "inputs = [1.0, 2.0, 3.0, 2.5]\n",
    "weights = [0.2, 0.8, -0.5, 1.0]\n",
    "bias = 2.0\n",
    "\n",
    "# Calculate the dot product and add the bias\n",
    "outputs1 = np.dot(weights_array, inputs_array) + bias\n",
    "outputs2 = np.dot(inputs_array, weights_array) + bias\n",
    "print(outputs1)\n",
    "print(outputs2)\n",
    "\n",
    "print(\"Both are same in vector multiplication\")"
   ]
  },
  {
   "cell_type": "markdown",
   "id": "a2a834b2-7f29-4e68-bf9e-38c2a7ba3a8d",
   "metadata": {},
   "source": [
    "## Layers of neurons using Numpy"
   ]
  },
  {
   "cell_type": "code",
   "execution_count": 6,
   "id": "19a3c7b7-878e-4fa2-860d-96023ede4b5f",
   "metadata": {},
   "outputs": [
    {
     "name": "stdout",
     "output_type": "stream",
     "text": [
      "[4.8   1.21  2.385]\n",
      "(3, 4) (4,)\n"
     ]
    }
   ],
   "source": [
    "inputs = [1.0, 2.0, 3.0, 2.5]\n",
    "weights = [[0.2, 0.8, -0.5, 1],\n",
    "           [0.5, -0.91, 0.26, -0.5],\n",
    "           [-0.26, -0.27, 0.17, 0.87]]\n",
    "biases = [2.0, 3.0, 0.5]\n",
    "\n",
    "# Convert lists to numpy arrays\n",
    "inputs_array = np.array(inputs)\n",
    "weights_array = np.array(weights)\n",
    "biases_array = np.array(biases)\n",
    "\n",
    "# Calculate the dot product anad add the biases\n",
    "layer_outputs = np.dot(weights_array, inputs_array) + biases_array\n",
    "print(layer_outputs)\n",
    "print(weights_array.shape, inputs_array.shape)"
   ]
  },
  {
   "cell_type": "markdown",
   "id": "42fd4021-ff5a-466d-b623-272654fab215",
   "metadata": {},
   "source": [
    "# Layer of neurons and batch of data using numpy"
   ]
  },
  {
   "cell_type": "code",
   "execution_count": 8,
   "id": "42526cde-71bd-409a-b758-9dc3d2bfd3af",
   "metadata": {},
   "outputs": [
    {
     "name": "stdout",
     "output_type": "stream",
     "text": [
      "[4.8   1.21  2.385]\n"
     ]
    }
   ],
   "source": [
    "inputs = [[1.0, 2.0, 3.0, 2.5], \n",
    "          [2.0, 5.0, -1.0, 2.0], \n",
    "          [-1.5, 2.7, 3.3, -0.8]]\n",
    "weights = [[0.2, 0.8, -0.5, 1],\n",
    "           [0.5, -0.91, 0.26, -0.5],\n",
    "           [-0.26, -0.27, 0.17, 0.87]]\n",
    "biases = [2.0, 3.0, 0.5]\n",
    "\n",
    "# Calculate the dot product and add the biases\n",
    "# NOTE: We can't TRANSPOSE lists in python, so we have to convert the weights matrix into an numpy array first.\n",
    "outputs = np.dot(inputs_array, np.array(weights_array).T) + biases_array\n",
    "print(outputs)"
   ]
  },
  {
   "cell_type": "code",
   "execution_count": null,
   "id": "f5d62ad7-c990-46d2-a0fd-0daaf2bc3704",
   "metadata": {},
   "outputs": [],
   "source": []
  }
 ],
 "metadata": {
  "kernelspec": {
   "display_name": "Python [conda env:DL] *",
   "language": "python",
   "name": "conda-env-DL-py"
  },
  "language_info": {
   "codemirror_mode": {
    "name": "ipython",
    "version": 3
   },
   "file_extension": ".py",
   "mimetype": "text/x-python",
   "name": "python",
   "nbconvert_exporter": "python",
   "pygments_lexer": "ipython3",
   "version": "3.12.4"
  }
 },
 "nbformat": 4,
 "nbformat_minor": 5
}
